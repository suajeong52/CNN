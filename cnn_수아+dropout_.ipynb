{
  "nbformat": 4,
  "nbformat_minor": 0,
  "metadata": {
    "colab": {
      "name": "cnn_수아+dropout_.ipynb",
      "provenance": [],
      "collapsed_sections": [],
      "include_colab_link": true
    },
    "kernelspec": {
      "name": "python3",
      "display_name": "Python 3"
    },
    "language_info": {
      "name": "python"
    }
  },
  "cells": [
    {
      "cell_type": "markdown",
      "metadata": {
        "id": "view-in-github",
        "colab_type": "text"
      },
      "source": [
        "<a href=\"https://colab.research.google.com/github/suajeong52/CNN/blob/main/cnn_%EC%88%98%EC%95%84%2Bdropout_.ipynb\" target=\"_parent\"><img src=\"https://colab.research.google.com/assets/colab-badge.svg\" alt=\"Open In Colab\"/></a>"
      ]
    },
    {
      "cell_type": "code",
      "execution_count": null,
      "metadata": {
        "id": "WqRJCrUA7Rw-"
      },
      "outputs": [],
      "source": [
        "import numpy as np\n",
        "import matplotlib.pyplot as plt\n",
        "\n",
        "from tensorflow.keras.utils import to_categorical\n",
        "from tensorflow.keras.datasets import cifar10\n",
        "from tensorflow.keras.models import Model\n",
        "from tensorflow.keras.optimizers import Adam\n",
        "\n",
        "\n",
        "from tensorflow.keras.layers import Input, Flatten, Dense, Conv2D, BatchNormalization,  LeakyReLU, Dropout, Activation\n",
        "import tensorflow.keras.backend as K"
      ]
    },
    {
      "cell_type": "code",
      "source": [
        "(x_train, y_train), (x_test, y_test) = cifar10.load_data()\n",
        "NUM_CLASSES = 10\n"
      ],
      "metadata": {
        "colab": {
          "base_uri": "https://localhost:8080/"
        },
        "id": "P43vuJS_V7Qc",
        "outputId": "6934afe7-7ff1-4f58-fa8b-c13a8baeb886"
      },
      "execution_count": null,
      "outputs": [
        {
          "output_type": "stream",
          "name": "stdout",
          "text": [
            "Downloading data from https://www.cs.toronto.edu/~kriz/cifar-10-python.tar.gz\n",
            "170500096/170498071 [==============================] - 11s 0us/step\n",
            "170508288/170498071 [==============================] - 11s 0us/step\n"
          ]
        }
      ]
    },
    {
      "cell_type": "code",
      "source": [
        "\n",
        "x_train = x_train.astype('float32')/255.\n",
        "x_test  = x_test.astype('float32')/255.\n",
        "\n",
        "y_train = to_categorical(y_train)\n",
        "y_test  = to_categorical(y_test)"
      ],
      "metadata": {
        "id": "OiruwspM7Vry"
      },
      "execution_count": null,
      "outputs": []
    },
    {
      "cell_type": "code",
      "source": [
        "input_layer = Input(shape = (32,32,3))\n",
        "\n",
        "conv_layer_1 = Conv2D(filters = 32\n",
        "                      , kernel_size = (3,3)\n",
        "                      , strides = 2\n",
        "                      , padding = 'same'\n",
        "                      , activation = 'relu'\n",
        "                      )(input_layer)\n",
        "\n",
        "conv_layer_2 = Conv2D(\n",
        "        filters = 46\n",
        "        , kernel_size = (3,3)\n",
        "        , strides = 2\n",
        "        , padding = 'same'\n",
        "        , activation = 'relu'\n",
        "        )(conv_layer_1)\n",
        "\n",
        "conv_layer_3 = Conv2D(\n",
        "        filters =64\n",
        "        , kernel_size = (3,3)\n",
        "        , strides = 2\n",
        "        , padding = 'same'\n",
        "        , activation = 'relu'\n",
        "        )(conv_layer_2)\n",
        " \n",
        "flatten_layer = Flatten()(conv_layer_2)\n",
        "\n",
        "dense = Dense(128, activation = 'relu')(flatten_layer)\n",
        "dropout = Dropout(rate = 0.5)(dense)\n",
        "\n",
        "output_layer = Dense(10, activation = 'softmax')(dropout)\n",
        "\n",
        "model1 = Model(input_layer, output_layer)"
      ],
      "metadata": {
        "id": "KD0SQ3Ms8apZ"
      },
      "execution_count": null,
      "outputs": []
    },
    {
      "cell_type": "code",
      "source": [
        "model1.summary()"
      ],
      "metadata": {
        "colab": {
          "base_uri": "https://localhost:8080/"
        },
        "id": "kImgN71A8uAp",
        "outputId": "77789251-a885-44ab-fbbb-a420850223f5"
      },
      "execution_count": null,
      "outputs": [
        {
          "output_type": "stream",
          "name": "stdout",
          "text": [
            "Model: \"model\"\n",
            "_________________________________________________________________\n",
            " Layer (type)                Output Shape              Param #   \n",
            "=================================================================\n",
            " input_1 (InputLayer)        [(None, 32, 32, 3)]       0         \n",
            "                                                                 \n",
            " conv2d (Conv2D)             (None, 16, 16, 32)        896       \n",
            "                                                                 \n",
            " conv2d_1 (Conv2D)           (None, 8, 8, 46)          13294     \n",
            "                                                                 \n",
            " flatten (Flatten)           (None, 2944)              0         \n",
            "                                                                 \n",
            " dense (Dense)               (None, 128)               376960    \n",
            "                                                                 \n",
            " dropout (Dropout)           (None, 128)               0         \n",
            "                                                                 \n",
            " dense_1 (Dense)             (None, 10)                1290      \n",
            "                                                                 \n",
            "=================================================================\n",
            "Total params: 392,440\n",
            "Trainable params: 392,440\n",
            "Non-trainable params: 0\n",
            "_________________________________________________________________\n"
          ]
        }
      ]
    },
    {
      "cell_type": "code",
      "source": [
        "opt = Adam(lr=0.0005)\n",
        "model1.compile(loss = 'categorical_crossentropy', optimizer = opt, metrics= ['accuracy'])"
      ],
      "metadata": {
        "colab": {
          "base_uri": "https://localhost:8080/"
        },
        "id": "1l8fopZd9tjp",
        "outputId": "289b785e-fb59-4911-c348-b8e3dea08b32"
      },
      "execution_count": null,
      "outputs": [
        {
          "output_type": "stream",
          "name": "stderr",
          "text": [
            "/usr/local/lib/python3.7/dist-packages/keras/optimizer_v2/adam.py:105: UserWarning: The `lr` argument is deprecated, use `learning_rate` instead.\n",
            "  super(Adam, self).__init__(name, **kwargs)\n"
          ]
        }
      ]
    },
    {
      "cell_type": "code",
      "source": [
        "model1.fit(x_train, y_train, batch_size = 32, epochs = 10, shuffle=True)"
      ],
      "metadata": {
        "colab": {
          "base_uri": "https://localhost:8080/"
        },
        "id": "5uu-oyk69wAR",
        "outputId": "c0c25e94-d3d9-48bb-9472-c2d4141e9f05"
      },
      "execution_count": null,
      "outputs": [
        {
          "output_type": "stream",
          "name": "stdout",
          "text": [
            "Epoch 1/10\n",
            "1563/1563 [==============================] - 28s 17ms/step - loss: 1.6915 - accuracy: 0.3871\n",
            "Epoch 2/10\n",
            "1563/1563 [==============================] - 27s 18ms/step - loss: 1.4014 - accuracy: 0.4964\n",
            "Epoch 3/10\n",
            "1563/1563 [==============================] - 27s 17ms/step - loss: 1.2933 - accuracy: 0.5389\n",
            "Epoch 4/10\n",
            "1563/1563 [==============================] - 26s 16ms/step - loss: 1.2111 - accuracy: 0.5692\n",
            "Epoch 5/10\n",
            "1563/1563 [==============================] - 26s 17ms/step - loss: 1.1461 - accuracy: 0.5909\n",
            "Epoch 6/10\n",
            "1563/1563 [==============================] - 27s 17ms/step - loss: 1.0938 - accuracy: 0.6119\n",
            "Epoch 7/10\n",
            "1563/1563 [==============================] - 29s 18ms/step - loss: 1.0451 - accuracy: 0.6315\n",
            "Epoch 8/10\n",
            "1563/1563 [==============================] - 28s 18ms/step - loss: 0.9999 - accuracy: 0.6444\n",
            "Epoch 9/10\n",
            "1563/1563 [==============================] - 26s 17ms/step - loss: 0.9599 - accuracy: 0.6587\n",
            "Epoch 10/10\n",
            "1563/1563 [==============================] - 25s 16ms/step - loss: 0.9287 - accuracy: 0.6691\n"
          ]
        },
        {
          "output_type": "execute_result",
          "data": {
            "text/plain": [
              "<keras.callbacks.History at 0x7ff5da651150>"
            ]
          },
          "metadata": {},
          "execution_count": 7
        }
      ]
    },
    {
      "cell_type": "code",
      "source": [
        "model1.evaluate(x_test, y_test)"
      ],
      "metadata": {
        "id": "W7HlUKdS_P84",
        "colab": {
          "base_uri": "https://localhost:8080/"
        },
        "outputId": "7e3f4143-2f49-4125-d44d-7527358eaf0d"
      },
      "execution_count": null,
      "outputs": [
        {
          "output_type": "stream",
          "name": "stdout",
          "text": [
            "313/313 [==============================] - 2s 6ms/step - loss: 0.9646 - accuracy: 0.6537\n"
          ]
        },
        {
          "output_type": "execute_result",
          "data": {
            "text/plain": [
              "[0.9645957946777344, 0.6536999940872192]"
            ]
          },
          "metadata": {},
          "execution_count": 8
        }
      ]
    }
  ]
}