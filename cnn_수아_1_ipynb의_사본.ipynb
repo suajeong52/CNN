{
  "nbformat": 4,
  "nbformat_minor": 0,
  "metadata": {
    "colab": {
      "name": "cnn_수아_1.ipynb의 사본",
      "provenance": [],
      "collapsed_sections": [],
      "authorship_tag": "ABX9TyPjo93pNIfmANrKowoKG47y",
      "include_colab_link": true
    },
    "kernelspec": {
      "name": "python3",
      "display_name": "Python 3"
    },
    "language_info": {
      "name": "python"
    }
  },
  "cells": [
    {
      "cell_type": "markdown",
      "metadata": {
        "id": "view-in-github",
        "colab_type": "text"
      },
      "source": [
        "<a href=\"https://colab.research.google.com/github/suajeong52/CNN/blob/main/cnn_%EC%88%98%EC%95%84_1_ipynb%EC%9D%98_%EC%82%AC%EB%B3%B8.ipynb\" target=\"_parent\"><img src=\"https://colab.research.google.com/assets/colab-badge.svg\" alt=\"Open In Colab\"/></a>"
      ]
    },
    {
      "cell_type": "code",
      "execution_count": 1,
      "metadata": {
        "id": "WqRJCrUA7Rw-"
      },
      "outputs": [],
      "source": [
        "import numpy as np\n",
        "import matplotlib.pyplot as plt\n",
        "\n",
        "from tensorflow.keras.utils import to_categorical\n",
        "from tensorflow.keras.datasets import cifar10\n",
        "from tensorflow.keras.models import Model\n",
        "from tensorflow.keras.optimizers import Adam\n",
        "\n",
        "\n",
        "from tensorflow.keras.layers import Input, Flatten, Dense, Conv2D, BatchNormalization,  LeakyReLU, Dropout, Activation\n",
        "import tensorflow.keras.backend as K"
      ]
    },
    {
      "cell_type": "code",
      "source": [
        "(x_train, y_train),(x_test, y_test) = cifar10.load_data()\n",
        "NUM_CLASSES = 10"
      ],
      "metadata": {
        "id": "P43vuJS_V7Qc",
        "colab": {
          "base_uri": "https://localhost:8080/"
        },
        "outputId": "d8e8cc46-735c-4c01-9283-9ee43991a8ed"
      },
      "execution_count": 2,
      "outputs": [
        {
          "output_type": "stream",
          "name": "stdout",
          "text": [
            "Downloading data from https://www.cs.toronto.edu/~kriz/cifar-10-python.tar.gz\n",
            "170500096/170498071 [==============================] - 6s 0us/step\n",
            "170508288/170498071 [==============================] - 6s 0us/step\n"
          ]
        }
      ]
    },
    {
      "cell_type": "code",
      "source": [
        "print(x_train.shape)\n",
        "print(x_test.shape)\n",
        "print(y_train.shape)\n",
        "print(y_test.shape)"
      ],
      "metadata": {
        "colab": {
          "base_uri": "https://localhost:8080/"
        },
        "id": "nsJPCFQjb4ID",
        "outputId": "170bd15a-5b42-4bc4-e92b-ed8e41350744"
      },
      "execution_count": 4,
      "outputs": [
        {
          "output_type": "stream",
          "name": "stdout",
          "text": [
            "(50000, 32, 32, 3)\n",
            "(10000, 32, 32, 3)\n",
            "(50000, 1)\n",
            "(10000, 1)\n"
          ]
        }
      ]
    },
    {
      "cell_type": "code",
      "source": [
        "y_train"
      ],
      "metadata": {
        "colab": {
          "base_uri": "https://localhost:8080/"
        },
        "id": "FBc3lIogcHfS",
        "outputId": "889818e6-09ee-421e-ecc7-a20a18088fae"
      },
      "execution_count": 5,
      "outputs": [
        {
          "output_type": "execute_result",
          "data": {
            "text/plain": [
              "array([[6],\n",
              "       [9],\n",
              "       [9],\n",
              "       ...,\n",
              "       [9],\n",
              "       [1],\n",
              "       [1]], dtype=uint8)"
            ]
          },
          "metadata": {},
          "execution_count": 5
        }
      ]
    },
    {
      "cell_type": "code",
      "source": [
        "\n",
        "x_train = x_train.astype('float32')/255.\n",
        "x_test  = x_test.astype('float32')/255.\n",
        "\n",
        "y_train = to_categorical(y_train)\n",
        "y_test  = to_categorical(y_test)"
      ],
      "metadata": {
        "id": "OiruwspM7Vry"
      },
      "execution_count": 6,
      "outputs": []
    },
    {
      "cell_type": "code",
      "source": [
        "y_train"
      ],
      "metadata": {
        "colab": {
          "base_uri": "https://localhost:8080/"
        },
        "id": "R62dNKjScI8a",
        "outputId": "6b00db31-9251-4255-c3be-dd664349fe07"
      },
      "execution_count": 7,
      "outputs": [
        {
          "output_type": "execute_result",
          "data": {
            "text/plain": [
              "array([[0., 0., 0., ..., 0., 0., 0.],\n",
              "       [0., 0., 0., ..., 0., 0., 1.],\n",
              "       [0., 0., 0., ..., 0., 0., 1.],\n",
              "       ...,\n",
              "       [0., 0., 0., ..., 0., 0., 1.],\n",
              "       [0., 1., 0., ..., 0., 0., 0.],\n",
              "       [0., 1., 0., ..., 0., 0., 0.]], dtype=float32)"
            ]
          },
          "metadata": {},
          "execution_count": 7
        }
      ]
    },
    {
      "cell_type": "code",
      "source": [
        "input_layer = Input(shape = (32,32,3))\n",
        "\n",
        "conv_layer_1 = Conv2D(filters = 10 \n",
        "                      , kernel_size = (4,4)\n",
        "                      , strides = 2\n",
        "                      , padding = 'same'\n",
        "                      , activation = 'relu'\n",
        "                      )(input_layer)\n",
        "\n",
        "conv_layer_2 = Conv2D(\n",
        "        filters = 20\n",
        "        , kernel_size = (3,3)\n",
        "        , strides =2\n",
        "        , padding = 'same'\n",
        "        , activation = 'relu'\n",
        "        )(conv_layer_1)\n",
        "\n",
        "conv_layer_3 = Conv2D(\n",
        "        filters = 30\n",
        "        , kernel_size = (2,2)\n",
        "        , strides = 2\n",
        "        , padding = 'same'\n",
        "        , activation = 'relu'\n",
        "        )(conv_layer_2)\n",
        " \n",
        "flatten_layer = Flatten()(conv_layer_3)\n",
        "\n",
        "output_layer = Dense(10, activation = 'softmax')(flatten_layer)\n",
        "model1 = Model(input_layer, output_layer)"
      ],
      "metadata": {
        "id": "KD0SQ3Ms8apZ"
      },
      "execution_count": 8,
      "outputs": []
    },
    {
      "cell_type": "code",
      "source": [
        "model1.summary()"
      ],
      "metadata": {
        "colab": {
          "base_uri": "https://localhost:8080/"
        },
        "id": "kImgN71A8uAp",
        "outputId": "c7db5646-94a3-4392-e7f9-9171959b3acb"
      },
      "execution_count": 9,
      "outputs": [
        {
          "output_type": "stream",
          "name": "stdout",
          "text": [
            "Model: \"model\"\n",
            "_________________________________________________________________\n",
            " Layer (type)                Output Shape              Param #   \n",
            "=================================================================\n",
            " input_1 (InputLayer)        [(None, 32, 32, 3)]       0         \n",
            "                                                                 \n",
            " conv2d (Conv2D)             (None, 16, 16, 10)        490       \n",
            "                                                                 \n",
            " conv2d_1 (Conv2D)           (None, 8, 8, 20)          1820      \n",
            "                                                                 \n",
            " conv2d_2 (Conv2D)           (None, 4, 4, 30)          2430      \n",
            "                                                                 \n",
            " flatten (Flatten)           (None, 480)               0         \n",
            "                                                                 \n",
            " dense (Dense)               (None, 10)                4810      \n",
            "                                                                 \n",
            "=================================================================\n",
            "Total params: 9,550\n",
            "Trainable params: 9,550\n",
            "Non-trainable params: 0\n",
            "_________________________________________________________________\n"
          ]
        }
      ]
    },
    {
      "cell_type": "code",
      "source": [
        "opt = Adam(lr=0.0005)\n",
        "model1.compile(loss = 'categorical_crossentropy', optimizer = opt, metrics= ['accuracy'])"
      ],
      "metadata": {
        "colab": {
          "base_uri": "https://localhost:8080/"
        },
        "id": "1l8fopZd9tjp",
        "outputId": "d54dbc6c-ee83-4013-e06b-a475a5ed330a"
      },
      "execution_count": 10,
      "outputs": [
        {
          "output_type": "stream",
          "name": "stderr",
          "text": [
            "/usr/local/lib/python3.7/dist-packages/keras/optimizer_v2/adam.py:105: UserWarning: The `lr` argument is deprecated, use `learning_rate` instead.\n",
            "  super(Adam, self).__init__(name, **kwargs)\n"
          ]
        }
      ]
    },
    {
      "cell_type": "code",
      "source": [
        "model1.fit(x_train, y_train, batch_size = 32, epochs = 10, shuffle=True)"
      ],
      "metadata": {
        "colab": {
          "base_uri": "https://localhost:8080/"
        },
        "id": "5uu-oyk69wAR",
        "outputId": "ed19f739-c02b-4dd9-f5a3-c3b577b9e506"
      },
      "execution_count": 11,
      "outputs": [
        {
          "output_type": "stream",
          "name": "stdout",
          "text": [
            "Epoch 1/10\n",
            "1563/1563 [==============================] - 12s 7ms/step - loss: 1.7586 - accuracy: 0.3689\n",
            "Epoch 2/10\n",
            "1563/1563 [==============================] - 11s 7ms/step - loss: 1.5283 - accuracy: 0.4546\n",
            "Epoch 3/10\n",
            "1563/1563 [==============================] - 11s 7ms/step - loss: 1.4360 - accuracy: 0.4857\n",
            "Epoch 4/10\n",
            "1563/1563 [==============================] - 11s 7ms/step - loss: 1.3785 - accuracy: 0.5067\n",
            "Epoch 5/10\n",
            "1563/1563 [==============================] - 11s 7ms/step - loss: 1.3307 - accuracy: 0.5248\n",
            "Epoch 6/10\n",
            "1563/1563 [==============================] - 11s 7ms/step - loss: 1.2970 - accuracy: 0.5390\n",
            "Epoch 7/10\n",
            "1563/1563 [==============================] - 11s 7ms/step - loss: 1.2646 - accuracy: 0.5493\n",
            "Epoch 8/10\n",
            "1563/1563 [==============================] - 11s 7ms/step - loss: 1.2372 - accuracy: 0.5592\n",
            "Epoch 9/10\n",
            "1563/1563 [==============================] - 11s 7ms/step - loss: 1.2130 - accuracy: 0.5682\n",
            "Epoch 10/10\n",
            "1563/1563 [==============================] - 11s 7ms/step - loss: 1.1935 - accuracy: 0.5780\n"
          ]
        },
        {
          "output_type": "execute_result",
          "data": {
            "text/plain": [
              "<keras.callbacks.History at 0x7fc78f63add0>"
            ]
          },
          "metadata": {},
          "execution_count": 11
        }
      ]
    },
    {
      "cell_type": "code",
      "source": [
        "model1.evaluate(x_test, y_test)"
      ],
      "metadata": {
        "id": "W7HlUKdS_P84",
        "colab": {
          "base_uri": "https://localhost:8080/"
        },
        "outputId": "1acee5fe-1450-4d8c-f233-a216631fbdaf"
      },
      "execution_count": 12,
      "outputs": [
        {
          "output_type": "stream",
          "name": "stdout",
          "text": [
            "313/313 [==============================] - 1s 3ms/step - loss: 1.2137 - accuracy: 0.5660\n"
          ]
        },
        {
          "output_type": "execute_result",
          "data": {
            "text/plain": [
              "[1.2137293815612793, 0.5659999847412109]"
            ]
          },
          "metadata": {},
          "execution_count": 12
        }
      ]
    }
  ]
}