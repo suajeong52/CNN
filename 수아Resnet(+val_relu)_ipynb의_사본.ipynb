{
  "cells": [
    {
      "cell_type": "markdown",
      "metadata": {
        "id": "view-in-github",
        "colab_type": "text"
      },
      "source": [
        "<a href=\"https://colab.research.google.com/github/suajeong52/CNN/blob/main/%EC%88%98%EC%95%84Resnet(%2Bval_relu)_ipynb%EC%9D%98_%EC%82%AC%EB%B3%B8.ipynb\" target=\"_parent\"><img src=\"https://colab.research.google.com/assets/colab-badge.svg\" alt=\"Open In Colab\"/></a>"
      ]
    },
    {
      "cell_type": "code",
      "execution_count": 1,
      "metadata": {
        "id": "BN8_2CRwtPIy"
      },
      "outputs": [],
      "source": [
        "import numpy as np\n",
        "import pandas as pd \n",
        "import matplotlib.pyplot as plt\n",
        "import tensorflow as tf\n",
        "from tensorflow.keras.datasets import cifar10\n",
        "from tensorflow.keras.utils import to_categorical"
      ]
    },
    {
      "cell_type": "code",
      "execution_count": 2,
      "metadata": {
        "colab": {
          "base_uri": "https://localhost:8080/"
        },
        "id": "HxwvCzzMtUvS",
        "outputId": "09c9032a-6f1f-44e4-a429-bedec7129eb3"
      },
      "outputs": [
        {
          "output_type": "stream",
          "name": "stdout",
          "text": [
            "Downloading data from https://www.cs.toronto.edu/~kriz/cifar-10-python.tar.gz\n",
            "170500096/170498071 [==============================] - 4s 0us/step\n",
            "170508288/170498071 [==============================] - 4s 0us/step\n"
          ]
        }
      ],
      "source": [
        "(x_train, y_train), (x_test, y_test) = cifar10.load_data()\n",
        "NUM_CLASSES = 10\n",
        "\n",
        "x_train = x_train.astype('float32')/255.\n",
        "x_test  = x_test.astype('float32')/255.\n",
        "\n",
        "y_train = to_categorical(y_train)\n",
        "y_test  = to_categorical(y_test)"
      ]
    },
    {
      "cell_type": "code",
      "execution_count": 3,
      "metadata": {
        "colab": {
          "base_uri": "https://localhost:8080/"
        },
        "id": "fPwaWQcPta4R",
        "outputId": "5f7c689c-dd49-4aa2-a9ed-d42af2a5d0a3"
      },
      "outputs": [
        {
          "output_type": "stream",
          "name": "stdout",
          "text": [
            "Collecting git+https://www.github.com/keras-team/keras-contrib.git\n",
            "  Cloning https://www.github.com/keras-team/keras-contrib.git to /tmp/pip-req-build-aunyjyip\n",
            "  Running command git clone -q https://www.github.com/keras-team/keras-contrib.git /tmp/pip-req-build-aunyjyip\n",
            "Requirement already satisfied: keras in /usr/local/lib/python3.7/dist-packages (from keras-contrib==2.0.8) (2.8.0)\n",
            "Building wheels for collected packages: keras-contrib\n",
            "  Building wheel for keras-contrib (setup.py) ... \u001b[?25l\u001b[?25hdone\n",
            "  Created wheel for keras-contrib: filename=keras_contrib-2.0.8-py3-none-any.whl size=101077 sha256=60ed70fb3122a226caae4fc18f331f533e4e7603290f2341bf0f6738bf87c875\n",
            "  Stored in directory: /tmp/pip-ephem-wheel-cache-xz85vvlw/wheels/bb/1f/f2/b57495012683b6b20bbae94a3915ec79753111452d79886abc\n",
            "Successfully built keras-contrib\n",
            "Installing collected packages: keras-contrib\n",
            "Successfully installed keras-contrib-2.0.8\n"
          ]
        }
      ],
      "source": [
        "!pip install git+https://www.github.com/keras-team/keras-contrib.git"
      ]
    },
    {
      "cell_type": "code",
      "execution_count": 4,
      "metadata": {
        "id": "ZJJHfpvUtddK"
      },
      "outputs": [],
      "source": [
        "from tensorflow.keras.layers import Input, Dense, Reshape, Flatten, Dropout, Concatenate, Layer, InputSpec, Activation, LeakyReLU\n",
        "from tensorflow.keras.activations import sigmoid \n",
        "from tensorflow.keras.models import Model\n",
        "from tensorflow.keras.optimizers import Adam\n",
        "from tensorflow.keras.losses import MeanSquaredError \n",
        "from keras_contrib.layers.normalization.instancenormalization import InstanceNormalization\n",
        "from tensorflow.keras.layers import UpSampling2D, Conv2D, Conv2DTranspose\n",
        "from tensorflow.keras.initializers import RandomNormal\n",
        "from tensorflow.keras.layers import add\n",
        "\n",
        "from tensorflow.keras.callbacks import Callback, LearningRateScheduler\n",
        "from tensorflow.keras.callbacks import ModelCheckpoint\n",
        "import os"
      ]
    },
    {
      "cell_type": "code",
      "source": [
        "from tensorflow.keras.models import load_model # 모델 저장하고 불러오는 방법"
      ],
      "metadata": {
        "id": "BfFdXdhOlmzA"
      },
      "execution_count": 7,
      "outputs": []
    },
    {
      "cell_type": "code",
      "execution_count": 8,
      "metadata": {
        "id": "D8qlUm8Rtf8K"
      },
      "outputs": [],
      "source": [
        "class CustomCallback(Callback):\n",
        "    \n",
        "    def __init__(self, run_folder, print_every_n_batches, initial_epoch, vae, ):\n",
        "        self.epoch = initial_epoch\n",
        "        self.run_folder = run_folder\n",
        "        self.print_every_n_batches = print_every_n_batches\n",
        "        self.vae = vae\n",
        "\n",
        "    def on_batch_end(self, batch, logs={}):  \n",
        "      a=0\n",
        "    #  if batch % self.print_every_n_batches == 0:\n",
        "    #    print(batch)\n",
        "     #     self.model.predict()\n",
        "     #     potential_by_cnn =  model.predict(X_test)\n",
        "\n",
        "\n",
        "     #       z_new = np.random.normal(size = (1,self.vae.z_dim))\n",
        "     #       reconst = self.vae.decoder.predict(np.array(z_new))[0].squeeze()\n",
        "\n",
        "      #      filepath = os.path.join(self.run_folder, 'images', 'img_' + str(self.epoch).zfill(3) + '_' + str(batch) + '.jpg')\n",
        "      #      if len(reconst.shape) == 2:\n",
        "      #          plt.imsave(filepath, reconst, cmap='gray_r')\n",
        "      #      else:\n",
        "      #          plt.imsave(filepath, reconst)\n",
        "\n",
        "    def on_epoch_begin(self, epoch, logs={}):\n",
        "        self.epoch += 1\n",
        "\n",
        "\n",
        "\n",
        "def step_decay_schedule(initial_lr, decay_factor=0.5, step_size=1):\n",
        "    '''\n",
        "    Wrapper function to create a LearningRateScheduler with step decay schedule.\n",
        "    '''\n",
        "    def schedule(epoch):\n",
        "        new_lr = initial_lr * (decay_factor ** np.floor(epoch/step_size))\n",
        "        \n",
        "        return new_lr\n",
        "\n",
        "    return LearningRateScheduler(schedule)"
      ]
    },
    {
      "cell_type": "code",
      "execution_count": 9,
      "metadata": {
        "id": "C421ZoewtiJ0"
      },
      "outputs": [],
      "source": [
        "weight_init = RandomNormal(mean=0., stddev=0.02)\n",
        "\n",
        "def conv7s1(layer_input, filters, final):\n",
        "  y = ReflectionPadding2D(padding =(3,3))(layer_input)\n",
        "  y = Conv2D(filters, kernel_size=(7,7), strides=1, padding='valid', kernel_initializer = weight_init)(y)\n",
        "  if final:\n",
        "    y = sigmoid(y) \n",
        "  else: \n",
        "    y = LeakyReLU()(y)\n",
        "    y = InstanceNormalization(axis = -1, center = False, scale = False)(y)\n",
        "\n",
        "  return y\n",
        "\n",
        "def downsample(layer_input,filters):\n",
        "  y = Conv2D(filters, kernel_size=(3,3), strides=2, padding='same', kernel_initializer = weight_init)(layer_input)\n",
        "  y = LeakyReLU()(y)\n",
        "  y = InstanceNormalization(axis = -1, center = False, scale = False)(y)\n",
        "  return y\n",
        "\n",
        "def residual(layer_input, filters):\n",
        "  shortcut = layer_input\n",
        "  y = ReflectionPadding2D(padding =(1,1))(layer_input)\n",
        "  y = Conv2D(filters, kernel_size=(3, 3), strides=1, padding='valid', kernel_initializer = weight_init)(y)\n",
        "  y = LeakyReLU()(y)\n",
        "  y = InstanceNormalization(axis = -1, center = False, scale = False)(y)\n",
        "  return add([shortcut, y])\n",
        "\n",
        "def upsample(layer_input,filters):\n",
        "  y = Conv2DTranspose(filters, kernel_size=(3, 3), strides=2, padding='same', kernel_initializer = weight_init)(layer_input)\n",
        "  y = LeakyReLU()(y)\n",
        "  y = InstanceNormalization(axis = -1, center = False, scale = False)(y)\n",
        "  return y\n",
        "\n",
        "\n"
      ]
    },
    {
      "cell_type": "code",
      "execution_count": 10,
      "metadata": {
        "id": "ha5xCRt8v43t"
      },
      "outputs": [],
      "source": [
        "class ReflectionPadding2D(Layer):\n",
        "    def __init__(self, padding=(1, 1), **kwargs):\n",
        "        self.padding = tuple(padding)\n",
        "        self.input_spec = [InputSpec(ndim=4)]\n",
        "        super(ReflectionPadding2D, self).__init__(**kwargs)\n",
        "\n",
        "    def compute_output_shape(self, s):\n",
        "        \"\"\" If you are using \"channels_last\" configuration\"\"\"\n",
        "        return (s[0], s[1] + 2 * self.padding[0], s[2] + 2 * self.padding[1], s[3])\n",
        "\n",
        "    def call(self, x, mask=None):\n",
        "        w_pad,h_pad = self.padding\n",
        "        return tf.pad(x, [[0,0], [h_pad,h_pad], [w_pad,w_pad], [0,0] ], 'REFLECT')"
      ]
    },
    {
      "cell_type": "code",
      "execution_count": 11,
      "metadata": {
        "id": "4EQ5jX0Q0DwT"
      },
      "outputs": [],
      "source": [
        "gen_n_filters = 8\n",
        "\n",
        "img = Input(shape=(32,32,3))\n",
        "\n",
        "y = conv7s1(img, gen_n_filters, False)\n",
        "\n",
        "\n",
        "y = downsample(y, gen_n_filters * 2)\n",
        "for i in range(10):\n",
        "  y = residual(y, gen_n_filters * 2)\n",
        "\n",
        "\n",
        "y = downsample(y, gen_n_filters * 2)\n",
        "for i in range(10):\n",
        "  y = residual(y, gen_n_filters * 2)\n",
        "\n",
        "y = Flatten()(y)\n",
        "\n",
        "y = Dense(128, activation ='relu')(y)\n",
        "\n",
        "output = Dense(10, activation = 'softmax')(y)\n",
        "\n",
        "   \n",
        "model = Model(img, output)"
      ]
    },
    {
      "cell_type": "code",
      "execution_count": 12,
      "metadata": {
        "colab": {
          "base_uri": "https://localhost:8080/"
        },
        "id": "CBDE3J6AhE9w",
        "outputId": "76d05b20-7485-4c71-f208-285e79beb8bc"
      },
      "outputs": [
        {
          "output_type": "stream",
          "name": "stdout",
          "text": [
            "Model: \"model\"\n",
            "__________________________________________________________________________________________________\n",
            " Layer (type)                   Output Shape         Param #     Connected to                     \n",
            "==================================================================================================\n",
            " input_1 (InputLayer)           [(None, 32, 32, 3)]  0           []                               \n",
            "                                                                                                  \n",
            " reflection_padding2d (Reflecti  (None, 38, 38, 3)   0           ['input_1[0][0]']                \n",
            " onPadding2D)                                                                                     \n",
            "                                                                                                  \n",
            " conv2d (Conv2D)                (None, 32, 32, 8)    1184        ['reflection_padding2d[0][0]']   \n",
            "                                                                                                  \n",
            " leaky_re_lu (LeakyReLU)        (None, 32, 32, 8)    0           ['conv2d[0][0]']                 \n",
            "                                                                                                  \n",
            " instance_normalization (Instan  (None, 32, 32, 8)   0           ['leaky_re_lu[0][0]']            \n",
            " ceNormalization)                                                                                 \n",
            "                                                                                                  \n",
            " conv2d_1 (Conv2D)              (None, 16, 16, 16)   1168        ['instance_normalization[0][0]'] \n",
            "                                                                                                  \n",
            " leaky_re_lu_1 (LeakyReLU)      (None, 16, 16, 16)   0           ['conv2d_1[0][0]']               \n",
            "                                                                                                  \n",
            " instance_normalization_1 (Inst  (None, 16, 16, 16)  0           ['leaky_re_lu_1[0][0]']          \n",
            " anceNormalization)                                                                               \n",
            "                                                                                                  \n",
            " reflection_padding2d_1 (Reflec  (None, 18, 18, 16)  0           ['instance_normalization_1[0][0]'\n",
            " tionPadding2D)                                                  ]                                \n",
            "                                                                                                  \n",
            " conv2d_2 (Conv2D)              (None, 16, 16, 16)   2320        ['reflection_padding2d_1[0][0]'] \n",
            "                                                                                                  \n",
            " leaky_re_lu_2 (LeakyReLU)      (None, 16, 16, 16)   0           ['conv2d_2[0][0]']               \n",
            "                                                                                                  \n",
            " instance_normalization_2 (Inst  (None, 16, 16, 16)  0           ['leaky_re_lu_2[0][0]']          \n",
            " anceNormalization)                                                                               \n",
            "                                                                                                  \n",
            " add (Add)                      (None, 16, 16, 16)   0           ['instance_normalization_1[0][0]'\n",
            "                                                                 , 'instance_normalization_2[0][0]\n",
            "                                                                 ']                               \n",
            "                                                                                                  \n",
            " reflection_padding2d_2 (Reflec  (None, 18, 18, 16)  0           ['add[0][0]']                    \n",
            " tionPadding2D)                                                                                   \n",
            "                                                                                                  \n",
            " conv2d_3 (Conv2D)              (None, 16, 16, 16)   2320        ['reflection_padding2d_2[0][0]'] \n",
            "                                                                                                  \n",
            " leaky_re_lu_3 (LeakyReLU)      (None, 16, 16, 16)   0           ['conv2d_3[0][0]']               \n",
            "                                                                                                  \n",
            " instance_normalization_3 (Inst  (None, 16, 16, 16)  0           ['leaky_re_lu_3[0][0]']          \n",
            " anceNormalization)                                                                               \n",
            "                                                                                                  \n",
            " add_1 (Add)                    (None, 16, 16, 16)   0           ['add[0][0]',                    \n",
            "                                                                  'instance_normalization_3[0][0]'\n",
            "                                                                 ]                                \n",
            "                                                                                                  \n",
            " reflection_padding2d_3 (Reflec  (None, 18, 18, 16)  0           ['add_1[0][0]']                  \n",
            " tionPadding2D)                                                                                   \n",
            "                                                                                                  \n",
            " conv2d_4 (Conv2D)              (None, 16, 16, 16)   2320        ['reflection_padding2d_3[0][0]'] \n",
            "                                                                                                  \n",
            " leaky_re_lu_4 (LeakyReLU)      (None, 16, 16, 16)   0           ['conv2d_4[0][0]']               \n",
            "                                                                                                  \n",
            " instance_normalization_4 (Inst  (None, 16, 16, 16)  0           ['leaky_re_lu_4[0][0]']          \n",
            " anceNormalization)                                                                               \n",
            "                                                                                                  \n",
            " add_2 (Add)                    (None, 16, 16, 16)   0           ['add_1[0][0]',                  \n",
            "                                                                  'instance_normalization_4[0][0]'\n",
            "                                                                 ]                                \n",
            "                                                                                                  \n",
            " reflection_padding2d_4 (Reflec  (None, 18, 18, 16)  0           ['add_2[0][0]']                  \n",
            " tionPadding2D)                                                                                   \n",
            "                                                                                                  \n",
            " conv2d_5 (Conv2D)              (None, 16, 16, 16)   2320        ['reflection_padding2d_4[0][0]'] \n",
            "                                                                                                  \n",
            " leaky_re_lu_5 (LeakyReLU)      (None, 16, 16, 16)   0           ['conv2d_5[0][0]']               \n",
            "                                                                                                  \n",
            " instance_normalization_5 (Inst  (None, 16, 16, 16)  0           ['leaky_re_lu_5[0][0]']          \n",
            " anceNormalization)                                                                               \n",
            "                                                                                                  \n",
            " add_3 (Add)                    (None, 16, 16, 16)   0           ['add_2[0][0]',                  \n",
            "                                                                  'instance_normalization_5[0][0]'\n",
            "                                                                 ]                                \n",
            "                                                                                                  \n",
            " reflection_padding2d_5 (Reflec  (None, 18, 18, 16)  0           ['add_3[0][0]']                  \n",
            " tionPadding2D)                                                                                   \n",
            "                                                                                                  \n",
            " conv2d_6 (Conv2D)              (None, 16, 16, 16)   2320        ['reflection_padding2d_5[0][0]'] \n",
            "                                                                                                  \n",
            " leaky_re_lu_6 (LeakyReLU)      (None, 16, 16, 16)   0           ['conv2d_6[0][0]']               \n",
            "                                                                                                  \n",
            " instance_normalization_6 (Inst  (None, 16, 16, 16)  0           ['leaky_re_lu_6[0][0]']          \n",
            " anceNormalization)                                                                               \n",
            "                                                                                                  \n",
            " add_4 (Add)                    (None, 16, 16, 16)   0           ['add_3[0][0]',                  \n",
            "                                                                  'instance_normalization_6[0][0]'\n",
            "                                                                 ]                                \n",
            "                                                                                                  \n",
            " reflection_padding2d_6 (Reflec  (None, 18, 18, 16)  0           ['add_4[0][0]']                  \n",
            " tionPadding2D)                                                                                   \n",
            "                                                                                                  \n",
            " conv2d_7 (Conv2D)              (None, 16, 16, 16)   2320        ['reflection_padding2d_6[0][0]'] \n",
            "                                                                                                  \n",
            " leaky_re_lu_7 (LeakyReLU)      (None, 16, 16, 16)   0           ['conv2d_7[0][0]']               \n",
            "                                                                                                  \n",
            " instance_normalization_7 (Inst  (None, 16, 16, 16)  0           ['leaky_re_lu_7[0][0]']          \n",
            " anceNormalization)                                                                               \n",
            "                                                                                                  \n",
            " add_5 (Add)                    (None, 16, 16, 16)   0           ['add_4[0][0]',                  \n",
            "                                                                  'instance_normalization_7[0][0]'\n",
            "                                                                 ]                                \n",
            "                                                                                                  \n",
            " reflection_padding2d_7 (Reflec  (None, 18, 18, 16)  0           ['add_5[0][0]']                  \n",
            " tionPadding2D)                                                                                   \n",
            "                                                                                                  \n",
            " conv2d_8 (Conv2D)              (None, 16, 16, 16)   2320        ['reflection_padding2d_7[0][0]'] \n",
            "                                                                                                  \n",
            " leaky_re_lu_8 (LeakyReLU)      (None, 16, 16, 16)   0           ['conv2d_8[0][0]']               \n",
            "                                                                                                  \n",
            " instance_normalization_8 (Inst  (None, 16, 16, 16)  0           ['leaky_re_lu_8[0][0]']          \n",
            " anceNormalization)                                                                               \n",
            "                                                                                                  \n",
            " add_6 (Add)                    (None, 16, 16, 16)   0           ['add_5[0][0]',                  \n",
            "                                                                  'instance_normalization_8[0][0]'\n",
            "                                                                 ]                                \n",
            "                                                                                                  \n",
            " reflection_padding2d_8 (Reflec  (None, 18, 18, 16)  0           ['add_6[0][0]']                  \n",
            " tionPadding2D)                                                                                   \n",
            "                                                                                                  \n",
            " conv2d_9 (Conv2D)              (None, 16, 16, 16)   2320        ['reflection_padding2d_8[0][0]'] \n",
            "                                                                                                  \n",
            " leaky_re_lu_9 (LeakyReLU)      (None, 16, 16, 16)   0           ['conv2d_9[0][0]']               \n",
            "                                                                                                  \n",
            " instance_normalization_9 (Inst  (None, 16, 16, 16)  0           ['leaky_re_lu_9[0][0]']          \n",
            " anceNormalization)                                                                               \n",
            "                                                                                                  \n",
            " add_7 (Add)                    (None, 16, 16, 16)   0           ['add_6[0][0]',                  \n",
            "                                                                  'instance_normalization_9[0][0]'\n",
            "                                                                 ]                                \n",
            "                                                                                                  \n",
            " reflection_padding2d_9 (Reflec  (None, 18, 18, 16)  0           ['add_7[0][0]']                  \n",
            " tionPadding2D)                                                                                   \n",
            "                                                                                                  \n",
            " conv2d_10 (Conv2D)             (None, 16, 16, 16)   2320        ['reflection_padding2d_9[0][0]'] \n",
            "                                                                                                  \n",
            " leaky_re_lu_10 (LeakyReLU)     (None, 16, 16, 16)   0           ['conv2d_10[0][0]']              \n",
            "                                                                                                  \n",
            " instance_normalization_10 (Ins  (None, 16, 16, 16)  0           ['leaky_re_lu_10[0][0]']         \n",
            " tanceNormalization)                                                                              \n",
            "                                                                                                  \n",
            " add_8 (Add)                    (None, 16, 16, 16)   0           ['add_7[0][0]',                  \n",
            "                                                                  'instance_normalization_10[0][0]\n",
            "                                                                 ']                               \n",
            "                                                                                                  \n",
            " reflection_padding2d_10 (Refle  (None, 18, 18, 16)  0           ['add_8[0][0]']                  \n",
            " ctionPadding2D)                                                                                  \n",
            "                                                                                                  \n",
            " conv2d_11 (Conv2D)             (None, 16, 16, 16)   2320        ['reflection_padding2d_10[0][0]']\n",
            "                                                                                                  \n",
            " leaky_re_lu_11 (LeakyReLU)     (None, 16, 16, 16)   0           ['conv2d_11[0][0]']              \n",
            "                                                                                                  \n",
            " instance_normalization_11 (Ins  (None, 16, 16, 16)  0           ['leaky_re_lu_11[0][0]']         \n",
            " tanceNormalization)                                                                              \n",
            "                                                                                                  \n",
            " add_9 (Add)                    (None, 16, 16, 16)   0           ['add_8[0][0]',                  \n",
            "                                                                  'instance_normalization_11[0][0]\n",
            "                                                                 ']                               \n",
            "                                                                                                  \n",
            " conv2d_12 (Conv2D)             (None, 8, 8, 16)     2320        ['add_9[0][0]']                  \n",
            "                                                                                                  \n",
            " leaky_re_lu_12 (LeakyReLU)     (None, 8, 8, 16)     0           ['conv2d_12[0][0]']              \n",
            "                                                                                                  \n",
            " instance_normalization_12 (Ins  (None, 8, 8, 16)    0           ['leaky_re_lu_12[0][0]']         \n",
            " tanceNormalization)                                                                              \n",
            "                                                                                                  \n",
            " reflection_padding2d_11 (Refle  (None, 10, 10, 16)  0           ['instance_normalization_12[0][0]\n",
            " ctionPadding2D)                                                 ']                               \n",
            "                                                                                                  \n",
            " conv2d_13 (Conv2D)             (None, 8, 8, 16)     2320        ['reflection_padding2d_11[0][0]']\n",
            "                                                                                                  \n",
            " leaky_re_lu_13 (LeakyReLU)     (None, 8, 8, 16)     0           ['conv2d_13[0][0]']              \n",
            "                                                                                                  \n",
            " instance_normalization_13 (Ins  (None, 8, 8, 16)    0           ['leaky_re_lu_13[0][0]']         \n",
            " tanceNormalization)                                                                              \n",
            "                                                                                                  \n",
            " add_10 (Add)                   (None, 8, 8, 16)     0           ['instance_normalization_12[0][0]\n",
            "                                                                 ',                               \n",
            "                                                                  'instance_normalization_13[0][0]\n",
            "                                                                 ']                               \n",
            "                                                                                                  \n",
            " reflection_padding2d_12 (Refle  (None, 10, 10, 16)  0           ['add_10[0][0]']                 \n",
            " ctionPadding2D)                                                                                  \n",
            "                                                                                                  \n",
            " conv2d_14 (Conv2D)             (None, 8, 8, 16)     2320        ['reflection_padding2d_12[0][0]']\n",
            "                                                                                                  \n",
            " leaky_re_lu_14 (LeakyReLU)     (None, 8, 8, 16)     0           ['conv2d_14[0][0]']              \n",
            "                                                                                                  \n",
            " instance_normalization_14 (Ins  (None, 8, 8, 16)    0           ['leaky_re_lu_14[0][0]']         \n",
            " tanceNormalization)                                                                              \n",
            "                                                                                                  \n",
            " add_11 (Add)                   (None, 8, 8, 16)     0           ['add_10[0][0]',                 \n",
            "                                                                  'instance_normalization_14[0][0]\n",
            "                                                                 ']                               \n",
            "                                                                                                  \n",
            " reflection_padding2d_13 (Refle  (None, 10, 10, 16)  0           ['add_11[0][0]']                 \n",
            " ctionPadding2D)                                                                                  \n",
            "                                                                                                  \n",
            " conv2d_15 (Conv2D)             (None, 8, 8, 16)     2320        ['reflection_padding2d_13[0][0]']\n",
            "                                                                                                  \n",
            " leaky_re_lu_15 (LeakyReLU)     (None, 8, 8, 16)     0           ['conv2d_15[0][0]']              \n",
            "                                                                                                  \n",
            " instance_normalization_15 (Ins  (None, 8, 8, 16)    0           ['leaky_re_lu_15[0][0]']         \n",
            " tanceNormalization)                                                                              \n",
            "                                                                                                  \n",
            " add_12 (Add)                   (None, 8, 8, 16)     0           ['add_11[0][0]',                 \n",
            "                                                                  'instance_normalization_15[0][0]\n",
            "                                                                 ']                               \n",
            "                                                                                                  \n",
            " reflection_padding2d_14 (Refle  (None, 10, 10, 16)  0           ['add_12[0][0]']                 \n",
            " ctionPadding2D)                                                                                  \n",
            "                                                                                                  \n",
            " conv2d_16 (Conv2D)             (None, 8, 8, 16)     2320        ['reflection_padding2d_14[0][0]']\n",
            "                                                                                                  \n",
            " leaky_re_lu_16 (LeakyReLU)     (None, 8, 8, 16)     0           ['conv2d_16[0][0]']              \n",
            "                                                                                                  \n",
            " instance_normalization_16 (Ins  (None, 8, 8, 16)    0           ['leaky_re_lu_16[0][0]']         \n",
            " tanceNormalization)                                                                              \n",
            "                                                                                                  \n",
            " add_13 (Add)                   (None, 8, 8, 16)     0           ['add_12[0][0]',                 \n",
            "                                                                  'instance_normalization_16[0][0]\n",
            "                                                                 ']                               \n",
            "                                                                                                  \n",
            " reflection_padding2d_15 (Refle  (None, 10, 10, 16)  0           ['add_13[0][0]']                 \n",
            " ctionPadding2D)                                                                                  \n",
            "                                                                                                  \n",
            " conv2d_17 (Conv2D)             (None, 8, 8, 16)     2320        ['reflection_padding2d_15[0][0]']\n",
            "                                                                                                  \n",
            " leaky_re_lu_17 (LeakyReLU)     (None, 8, 8, 16)     0           ['conv2d_17[0][0]']              \n",
            "                                                                                                  \n",
            " instance_normalization_17 (Ins  (None, 8, 8, 16)    0           ['leaky_re_lu_17[0][0]']         \n",
            " tanceNormalization)                                                                              \n",
            "                                                                                                  \n",
            " add_14 (Add)                   (None, 8, 8, 16)     0           ['add_13[0][0]',                 \n",
            "                                                                  'instance_normalization_17[0][0]\n",
            "                                                                 ']                               \n",
            "                                                                                                  \n",
            " reflection_padding2d_16 (Refle  (None, 10, 10, 16)  0           ['add_14[0][0]']                 \n",
            " ctionPadding2D)                                                                                  \n",
            "                                                                                                  \n",
            " conv2d_18 (Conv2D)             (None, 8, 8, 16)     2320        ['reflection_padding2d_16[0][0]']\n",
            "                                                                                                  \n",
            " leaky_re_lu_18 (LeakyReLU)     (None, 8, 8, 16)     0           ['conv2d_18[0][0]']              \n",
            "                                                                                                  \n",
            " instance_normalization_18 (Ins  (None, 8, 8, 16)    0           ['leaky_re_lu_18[0][0]']         \n",
            " tanceNormalization)                                                                              \n",
            "                                                                                                  \n",
            " add_15 (Add)                   (None, 8, 8, 16)     0           ['add_14[0][0]',                 \n",
            "                                                                  'instance_normalization_18[0][0]\n",
            "                                                                 ']                               \n",
            "                                                                                                  \n",
            " reflection_padding2d_17 (Refle  (None, 10, 10, 16)  0           ['add_15[0][0]']                 \n",
            " ctionPadding2D)                                                                                  \n",
            "                                                                                                  \n",
            " conv2d_19 (Conv2D)             (None, 8, 8, 16)     2320        ['reflection_padding2d_17[0][0]']\n",
            "                                                                                                  \n",
            " leaky_re_lu_19 (LeakyReLU)     (None, 8, 8, 16)     0           ['conv2d_19[0][0]']              \n",
            "                                                                                                  \n",
            " instance_normalization_19 (Ins  (None, 8, 8, 16)    0           ['leaky_re_lu_19[0][0]']         \n",
            " tanceNormalization)                                                                              \n",
            "                                                                                                  \n",
            " add_16 (Add)                   (None, 8, 8, 16)     0           ['add_15[0][0]',                 \n",
            "                                                                  'instance_normalization_19[0][0]\n",
            "                                                                 ']                               \n",
            "                                                                                                  \n",
            " reflection_padding2d_18 (Refle  (None, 10, 10, 16)  0           ['add_16[0][0]']                 \n",
            " ctionPadding2D)                                                                                  \n",
            "                                                                                                  \n",
            " conv2d_20 (Conv2D)             (None, 8, 8, 16)     2320        ['reflection_padding2d_18[0][0]']\n",
            "                                                                                                  \n",
            " leaky_re_lu_20 (LeakyReLU)     (None, 8, 8, 16)     0           ['conv2d_20[0][0]']              \n",
            "                                                                                                  \n",
            " instance_normalization_20 (Ins  (None, 8, 8, 16)    0           ['leaky_re_lu_20[0][0]']         \n",
            " tanceNormalization)                                                                              \n",
            "                                                                                                  \n",
            " add_17 (Add)                   (None, 8, 8, 16)     0           ['add_16[0][0]',                 \n",
            "                                                                  'instance_normalization_20[0][0]\n",
            "                                                                 ']                               \n",
            "                                                                                                  \n",
            " reflection_padding2d_19 (Refle  (None, 10, 10, 16)  0           ['add_17[0][0]']                 \n",
            " ctionPadding2D)                                                                                  \n",
            "                                                                                                  \n",
            " conv2d_21 (Conv2D)             (None, 8, 8, 16)     2320        ['reflection_padding2d_19[0][0]']\n",
            "                                                                                                  \n",
            " leaky_re_lu_21 (LeakyReLU)     (None, 8, 8, 16)     0           ['conv2d_21[0][0]']              \n",
            "                                                                                                  \n",
            " instance_normalization_21 (Ins  (None, 8, 8, 16)    0           ['leaky_re_lu_21[0][0]']         \n",
            " tanceNormalization)                                                                              \n",
            "                                                                                                  \n",
            " add_18 (Add)                   (None, 8, 8, 16)     0           ['add_17[0][0]',                 \n",
            "                                                                  'instance_normalization_21[0][0]\n",
            "                                                                 ']                               \n",
            "                                                                                                  \n",
            " reflection_padding2d_20 (Refle  (None, 10, 10, 16)  0           ['add_18[0][0]']                 \n",
            " ctionPadding2D)                                                                                  \n",
            "                                                                                                  \n",
            " conv2d_22 (Conv2D)             (None, 8, 8, 16)     2320        ['reflection_padding2d_20[0][0]']\n",
            "                                                                                                  \n",
            " leaky_re_lu_22 (LeakyReLU)     (None, 8, 8, 16)     0           ['conv2d_22[0][0]']              \n",
            "                                                                                                  \n",
            " instance_normalization_22 (Ins  (None, 8, 8, 16)    0           ['leaky_re_lu_22[0][0]']         \n",
            " tanceNormalization)                                                                              \n",
            "                                                                                                  \n",
            " add_19 (Add)                   (None, 8, 8, 16)     0           ['add_18[0][0]',                 \n",
            "                                                                  'instance_normalization_22[0][0]\n",
            "                                                                 ']                               \n",
            "                                                                                                  \n",
            " flatten (Flatten)              (None, 1024)         0           ['add_19[0][0]']                 \n",
            "                                                                                                  \n",
            " dense (Dense)                  (None, 128)          131200      ['flatten[0][0]']                \n",
            "                                                                                                  \n",
            " dense_1 (Dense)                (None, 10)           1290        ['dense[0][0]']                  \n",
            "                                                                                                  \n",
            "==================================================================================================\n",
            "Total params: 183,562\n",
            "Trainable params: 183,562\n",
            "Non-trainable params: 0\n",
            "__________________________________________________________________________________________________\n"
          ]
        }
      ],
      "source": [
        "model.summary()"
      ]
    },
    {
      "cell_type": "code",
      "execution_count": 13,
      "metadata": {
        "id": "5d3TYROy0JrC"
      },
      "outputs": [],
      "source": [
        "opt = Adam(learning_rate=0.001)\n",
        "model.compile(loss = 'categorical_crossentropy', optimizer = opt, metrics= ['accuracy'])"
      ]
    },
    {
      "cell_type": "code",
      "execution_count": 15,
      "metadata": {
        "colab": {
          "base_uri": "https://localhost:8080/"
        },
        "id": "xrRX7wCeR9xP",
        "outputId": "27c34bf2-21aa-4c9c-df5d-d9de17498cbf"
      },
      "outputs": [
        {
          "output_type": "stream",
          "name": "stdout",
          "text": [
            "Epoch 1/30\n",
            "352/352 [==============================] - 12s 33ms/step - loss: 1.7491 - accuracy: 0.3762 - val_loss: 1.5498 - val_accuracy: 0.4468\n",
            "Epoch 2/30\n",
            "352/352 [==============================] - 11s 30ms/step - loss: 1.4583 - accuracy: 0.4847 - val_loss: 1.3924 - val_accuracy: 0.5002\n",
            "Epoch 3/30\n",
            "352/352 [==============================] - 11s 30ms/step - loss: 1.2866 - accuracy: 0.5468 - val_loss: 1.2908 - val_accuracy: 0.5434\n",
            "Epoch 4/30\n",
            "352/352 [==============================] - 11s 30ms/step - loss: 1.1578 - accuracy: 0.5917 - val_loss: 1.2286 - val_accuracy: 0.5734\n",
            "Epoch 5/30\n",
            "352/352 [==============================] - 11s 30ms/step - loss: 1.0367 - accuracy: 0.6358 - val_loss: 1.1429 - val_accuracy: 0.5990\n",
            "Epoch 6/30\n",
            "352/352 [==============================] - 13s 37ms/step - loss: 0.9367 - accuracy: 0.6719 - val_loss: 1.0931 - val_accuracy: 0.6222\n",
            "Epoch 7/30\n",
            "352/352 [==============================] - 11s 30ms/step - loss: 0.8442 - accuracy: 0.7032 - val_loss: 1.0618 - val_accuracy: 0.6338\n",
            "Epoch 8/30\n",
            "352/352 [==============================] - 11s 32ms/step - loss: 0.7707 - accuracy: 0.7282 - val_loss: 1.0782 - val_accuracy: 0.6326\n",
            "Epoch 9/30\n",
            "352/352 [==============================] - 11s 30ms/step - loss: 0.6892 - accuracy: 0.7570 - val_loss: 1.1145 - val_accuracy: 0.6454\n",
            "Epoch 10/30\n",
            "352/352 [==============================] - 11s 30ms/step - loss: 0.6126 - accuracy: 0.7858 - val_loss: 1.1355 - val_accuracy: 0.6424\n",
            "Epoch 11/30\n",
            "352/352 [==============================] - 11s 32ms/step - loss: 0.5404 - accuracy: 0.8087 - val_loss: 1.2168 - val_accuracy: 0.6234\n",
            "Epoch 12/30\n",
            "352/352 [==============================] - 11s 30ms/step - loss: 0.4776 - accuracy: 0.8314 - val_loss: 1.2515 - val_accuracy: 0.6346\n",
            "Epoch 13/30\n",
            "352/352 [==============================] - 11s 30ms/step - loss: 0.4199 - accuracy: 0.8503 - val_loss: 1.3072 - val_accuracy: 0.6402\n",
            "Epoch 14/30\n",
            "352/352 [==============================] - 11s 30ms/step - loss: 0.3667 - accuracy: 0.8717 - val_loss: 1.3841 - val_accuracy: 0.6410\n",
            "Epoch 15/30\n",
            "352/352 [==============================] - 11s 30ms/step - loss: 0.3287 - accuracy: 0.8845 - val_loss: 1.4788 - val_accuracy: 0.6348\n",
            "Epoch 16/30\n",
            "352/352 [==============================] - 11s 32ms/step - loss: 0.2808 - accuracy: 0.9019 - val_loss: 1.5396 - val_accuracy: 0.6266\n",
            "Epoch 17/30\n",
            "352/352 [==============================] - 11s 31ms/step - loss: 0.2337 - accuracy: 0.9190 - val_loss: 1.6586 - val_accuracy: 0.6274\n",
            "Epoch 18/30\n",
            "352/352 [==============================] - 11s 30ms/step - loss: 0.2192 - accuracy: 0.9225 - val_loss: 1.7214 - val_accuracy: 0.6276\n",
            "Epoch 19/30\n",
            "352/352 [==============================] - 11s 30ms/step - loss: 0.2017 - accuracy: 0.9290 - val_loss: 1.8347 - val_accuracy: 0.6186\n",
            "Epoch 20/30\n",
            "352/352 [==============================] - 11s 30ms/step - loss: 0.1746 - accuracy: 0.9384 - val_loss: 1.8947 - val_accuracy: 0.6340\n",
            "Epoch 21/30\n",
            "352/352 [==============================] - 11s 30ms/step - loss: 0.1526 - accuracy: 0.9462 - val_loss: 1.9443 - val_accuracy: 0.6360\n",
            "Epoch 22/30\n",
            "352/352 [==============================] - 11s 30ms/step - loss: 0.1300 - accuracy: 0.9540 - val_loss: 2.0847 - val_accuracy: 0.6370\n",
            "Epoch 23/30\n",
            "352/352 [==============================] - 11s 30ms/step - loss: 0.1490 - accuracy: 0.9474 - val_loss: 2.0707 - val_accuracy: 0.6268\n",
            "Epoch 24/30\n",
            "352/352 [==============================] - 11s 30ms/step - loss: 0.1195 - accuracy: 0.9583 - val_loss: 2.1037 - val_accuracy: 0.6406\n",
            "Epoch 25/30\n",
            "352/352 [==============================] - 11s 30ms/step - loss: 0.1291 - accuracy: 0.9537 - val_loss: 2.2420 - val_accuracy: 0.6302\n",
            "Epoch 26/30\n",
            "352/352 [==============================] - 11s 30ms/step - loss: 0.1086 - accuracy: 0.9620 - val_loss: 2.3316 - val_accuracy: 0.6180\n",
            "Epoch 27/30\n",
            "352/352 [==============================] - 11s 30ms/step - loss: 0.1008 - accuracy: 0.9647 - val_loss: 2.2914 - val_accuracy: 0.6356\n",
            "Epoch 28/30\n",
            "352/352 [==============================] - 11s 30ms/step - loss: 0.0939 - accuracy: 0.9679 - val_loss: 2.4435 - val_accuracy: 0.6284\n",
            "Epoch 29/30\n",
            "352/352 [==============================] - 11s 30ms/step - loss: 0.1034 - accuracy: 0.9637 - val_loss: 2.5007 - val_accuracy: 0.6196\n",
            "Epoch 30/30\n",
            "352/352 [==============================] - 11s 30ms/step - loss: 0.1040 - accuracy: 0.9633 - val_loss: 2.4329 - val_accuracy: 0.6302\n"
          ]
        }
      ],
      "source": [
        "history = model.fit(x_train, y_train, batch_size = 128, epochs = 30, shuffle=True, validation_split=0.1)"
      ]
    },
    {
      "cell_type": "code",
      "source": [
        "plt.plot(history.history['accuracy'], label='acc')\n",
        "plt.plot(history.history['val_accuracy'], label='val_acc')\n",
        "plt.ylabel('accuray')\n",
        "plt.xlabel('epoch')\n",
        "plt.legend(loc='best')\n",
        "plt.show()"
      ],
      "metadata": {
        "colab": {
          "base_uri": "https://localhost:8080/",
          "height": 278
        },
        "id": "vV6SaOajmJtg",
        "outputId": "8dda922a-a430-41d2-a09f-c55f695a7280"
      },
      "execution_count": 17,
      "outputs": [
        {
          "output_type": "display_data",
          "data": {
            "text/plain": [
              "<Figure size 432x288 with 1 Axes>"
            ],
            "image/png": "[encoded data removed]"
          },
          "metadata": {
            "needs_background": "light"
          }
        }
      ]
    },
    {
      "cell_type": "code",
      "source": [
        "plt.plot(history.history['loss'], label='loss')\n",
        "plt.plot(history.history['val_loss'], label='val_loss')\n",
        "plt.ylabel('loss')\n",
        "plt.xlabel('epoch')\n",
        "plt.legend(loc='best')\n",
        "plt.show()"
      ],
      "metadata": {
        "colab": {
          "base_uri": "https://localhost:8080/",
          "height": 278
        },
        "id": "HQfFSK2qpN36",
        "outputId": "034794e3-9c97-4413-c882-f223a145d6ee"
      },
      "execution_count": 18,
      "outputs": [
        {
          "output_type": "display_data",
          "data": {
            "text/plain": [
              "<Figure size 432x288 with 1 Axes>"
            ],
            "image/png": "[encoded data removed]"
          },
          "metadata": {
            "needs_background": "light"
          }
        }
      ]
    },
    {
      "cell_type": "code",
      "execution_count": 19,
      "metadata": {
        "colab": {
          "base_uri": "https://localhost:8080/"
        },
        "id": "lPsfdS7HR_mm",
        "outputId": "6f8d88e9-794a-4cbf-a612-c2055b12cd28"
      },
      "outputs": [
        {
          "output_type": "stream",
          "name": "stdout",
          "text": [
            "10/10 [==============================] - 1s 39ms/step - loss: 2.4848 - accuracy: 0.6134\n"
          ]
        },
        {
          "output_type": "execute_result",
          "data": {
            "text/plain": [
              "[2.4848313331604004, 0.6133999824523926]"
            ]
          },
          "metadata": {},
          "execution_count": 19
        }
      ],
      "source": [
        "model.evaluate(x_test, y_test, batch_size=1000)"
      ]
    }
  ],
  "metadata": {
    "accelerator": "GPU",
    "colab": {
      "collapsed_sections": [],
      "name": "수아Resnet(+val-relu).ipynb의 사본",
      "provenance": [],
      "include_colab_link": true
    },
    "kernelspec": {
      "display_name": "Python 3",
      "name": "python3"
    },
    "language_info": {
      "name": "python"
    }
  },
  "nbformat": 4,
  "nbformat_minor": 0
}