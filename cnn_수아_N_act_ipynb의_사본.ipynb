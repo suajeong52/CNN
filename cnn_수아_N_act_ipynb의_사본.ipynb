{
  "nbformat": 4,
  "nbformat_minor": 0,
  "metadata": {
    "colab": {
      "name": "cnn_수아_N_act.ipynb의 사본",
      "provenance": [],
      "collapsed_sections": [],
      "authorship_tag": "ABX9TyP96MKn1yIoLJPYwUqLjDaZ",
      "include_colab_link": true
    },
    "kernelspec": {
      "name": "python3",
      "display_name": "Python 3"
    },
    "language_info": {
      "name": "python"
    }
  },
  "cells": [
    {
      "cell_type": "markdown",
      "metadata": {
        "id": "view-in-github",
        "colab_type": "text"
      },
      "source": [
        "<a href=\"https://colab.research.google.com/github/suajeong52/CNN/blob/main/cnn_%EC%88%98%EC%95%84_N_act_ipynb%EC%9D%98_%EC%82%AC%EB%B3%B8.ipynb\" target=\"_parent\"><img src=\"https://colab.research.google.com/assets/colab-badge.svg\" alt=\"Open In Colab\"/></a>"
      ]
    },
    {
      "cell_type": "code",
      "execution_count": 1,
      "metadata": {
        "id": "WqRJCrUA7Rw-"
      },
      "outputs": [],
      "source": [
        "import numpy as np\n",
        "import matplotlib.pyplot as plt\n",
        "\n",
        "from tensorflow.keras.utils import to_categorical\n",
        "from tensorflow.keras.datasets import cifar10\n",
        "from tensorflow.keras.models import Model\n",
        "from tensorflow.keras.optimizers import Adam\n",
        "\n",
        "\n",
        "from tensorflow.keras.layers import Input, Flatten, Dense, Conv2D, BatchNormalization,  LeakyReLU, Dropout, Activation\n",
        "import tensorflow.keras.backend as K"
      ]
    },
    {
      "cell_type": "code",
      "source": [
        "(x_train, y_train),(x_test, y_test) = cifar10.load_data()\n",
        "NUM_CLASSES = 10"
      ],
      "metadata": {
        "id": "P43vuJS_V7Qc",
        "colab": {
          "base_uri": "https://localhost:8080/"
        },
        "outputId": "2357a9f3-2d66-4d29-e182-fd962f7dc540"
      },
      "execution_count": 2,
      "outputs": [
        {
          "output_type": "stream",
          "name": "stdout",
          "text": [
            "Downloading data from https://www.cs.toronto.edu/~kriz/cifar-10-python.tar.gz\n",
            "170500096/170498071 [==============================] - 6s 0us/step\n",
            "170508288/170498071 [==============================] - 6s 0us/step\n"
          ]
        }
      ]
    },
    {
      "cell_type": "code",
      "source": [
        "\n",
        "x_train = x_train.astype('float32')/255.\n",
        "x_test  = x_test.astype('float32')/255.\n",
        "\n",
        "y_train = to_categorical(y_train)\n",
        "y_test  = to_categorical(y_test)"
      ],
      "metadata": {
        "id": "OiruwspM7Vry"
      },
      "execution_count": 3,
      "outputs": []
    },
    {
      "cell_type": "code",
      "source": [
        "input_layer = Input(shape = (32,32,3))\n",
        "\n",
        "conv_layer_1 = Conv2D(filters = 10 \n",
        "                      , kernel_size = (4,4)\n",
        "                      , strides = 2\n",
        "                      , padding = 'same'\n",
        "                      )(input_layer)\n",
        "\n",
        "conv_layer_2 = Conv2D(\n",
        "        filters = 20\n",
        "        , kernel_size = (3,3)\n",
        "        , strides =2\n",
        "        , padding = 'same'\n",
        "        )(conv_layer_1)\n",
        "\n",
        "conv_layer_3 = Conv2D(\n",
        "        filters = 30\n",
        "        , kernel_size = (2,2)\n",
        "        , strides = 2\n",
        "        , padding = 'same'\n",
        "        )(conv_layer_2)\n",
        " \n",
        "flatten_layer = Flatten()(conv_layer_3)\n",
        "\n",
        "output_layer = Dense(10, activation = 'softmax')(flatten_layer)\n",
        "model1 = Model(input_layer, output_layer)"
      ],
      "metadata": {
        "id": "KD0SQ3Ms8apZ"
      },
      "execution_count": 4,
      "outputs": []
    },
    {
      "cell_type": "code",
      "source": [
        "model1.summary()"
      ],
      "metadata": {
        "colab": {
          "base_uri": "https://localhost:8080/"
        },
        "id": "kImgN71A8uAp",
        "outputId": "46350e55-eb7c-49ab-e437-6fb68baf7966"
      },
      "execution_count": 5,
      "outputs": [
        {
          "output_type": "stream",
          "name": "stdout",
          "text": [
            "Model: \"model\"\n",
            "_________________________________________________________________\n",
            " Layer (type)                Output Shape              Param #   \n",
            "=================================================================\n",
            " input_1 (InputLayer)        [(None, 32, 32, 3)]       0         \n",
            "                                                                 \n",
            " conv2d (Conv2D)             (None, 16, 16, 10)        490       \n",
            "                                                                 \n",
            " conv2d_1 (Conv2D)           (None, 8, 8, 20)          1820      \n",
            "                                                                 \n",
            " conv2d_2 (Conv2D)           (None, 4, 4, 30)          2430      \n",
            "                                                                 \n",
            " flatten (Flatten)           (None, 480)               0         \n",
            "                                                                 \n",
            " dense (Dense)               (None, 10)                4810      \n",
            "                                                                 \n",
            "=================================================================\n",
            "Total params: 9,550\n",
            "Trainable params: 9,550\n",
            "Non-trainable params: 0\n",
            "_________________________________________________________________\n"
          ]
        }
      ]
    },
    {
      "cell_type": "code",
      "source": [
        "opt = Adam(lr=0.0005)\n",
        "model1.compile(loss = 'categorical_crossentropy', optimizer = opt, metrics= ['accuracy'])"
      ],
      "metadata": {
        "colab": {
          "base_uri": "https://localhost:8080/"
        },
        "id": "1l8fopZd9tjp",
        "outputId": "b63c41fb-915d-439d-c8b1-5207725edcad"
      },
      "execution_count": 6,
      "outputs": [
        {
          "output_type": "stream",
          "name": "stderr",
          "text": [
            "/usr/local/lib/python3.7/dist-packages/keras/optimizer_v2/adam.py:105: UserWarning: The `lr` argument is deprecated, use `learning_rate` instead.\n",
            "  super(Adam, self).__init__(name, **kwargs)\n"
          ]
        }
      ]
    },
    {
      "cell_type": "code",
      "source": [
        "model1.fit(x_train, y_train, batch_size = 32, epochs = 10, shuffle=True)"
      ],
      "metadata": {
        "colab": {
          "base_uri": "https://localhost:8080/"
        },
        "id": "5uu-oyk69wAR",
        "outputId": "dd07bf6f-00ed-4127-a920-c56ab2e81318"
      },
      "execution_count": 7,
      "outputs": [
        {
          "output_type": "stream",
          "name": "stdout",
          "text": [
            "Epoch 1/10\n",
            "1563/1563 [==============================] - 17s 10ms/step - loss: 1.8707 - accuracy: 0.3423\n",
            "Epoch 2/10\n",
            "1563/1563 [==============================] - 16s 10ms/step - loss: 1.7541 - accuracy: 0.3965\n",
            "Epoch 3/10\n",
            "1563/1563 [==============================] - 16s 10ms/step - loss: 1.7315 - accuracy: 0.4072\n",
            "Epoch 4/10\n",
            "1563/1563 [==============================] - 15s 10ms/step - loss: 1.7200 - accuracy: 0.4122\n",
            "Epoch 5/10\n",
            "1563/1563 [==============================] - 15s 10ms/step - loss: 1.7121 - accuracy: 0.4144\n",
            "Epoch 6/10\n",
            "1563/1563 [==============================] - 16s 10ms/step - loss: 1.7055 - accuracy: 0.4178\n",
            "Epoch 7/10\n",
            "1563/1563 [==============================] - 15s 10ms/step - loss: 1.7006 - accuracy: 0.4200\n",
            "Epoch 8/10\n",
            "1563/1563 [==============================] - 16s 10ms/step - loss: 1.6980 - accuracy: 0.4203\n",
            "Epoch 9/10\n",
            "1563/1563 [==============================] - 16s 10ms/step - loss: 1.6931 - accuracy: 0.4218\n",
            "Epoch 10/10\n",
            "1563/1563 [==============================] - 16s 10ms/step - loss: 1.6905 - accuracy: 0.4240\n"
          ]
        },
        {
          "output_type": "execute_result",
          "data": {
            "text/plain": [
              "<keras.callbacks.History at 0x7ff8cf6371d0>"
            ]
          },
          "metadata": {},
          "execution_count": 7
        }
      ]
    },
    {
      "cell_type": "code",
      "source": [
        "model1.evaluate(x_test, y_test)"
      ],
      "metadata": {
        "id": "W7HlUKdS_P84",
        "colab": {
          "base_uri": "https://localhost:8080/"
        },
        "outputId": "567fcc6d-19e5-4c67-a1ae-1b53072e1783"
      },
      "execution_count": 8,
      "outputs": [
        {
          "output_type": "stream",
          "name": "stdout",
          "text": [
            "313/313 [==============================] - 2s 5ms/step - loss: 1.7078 - accuracy: 0.4171\n"
          ]
        },
        {
          "output_type": "execute_result",
          "data": {
            "text/plain": [
              "[1.7078074216842651, 0.4171000123023987]"
            ]
          },
          "metadata": {},
          "execution_count": 8
        }
      ]
    }
  ]
}