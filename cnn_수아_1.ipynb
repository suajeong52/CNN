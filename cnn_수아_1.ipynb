{
  "nbformat": 4,
  "nbformat_minor": 0,
  "metadata": {
    "colab": {
      "name": "cnn_수아_1.ipynb",
      "provenance": [],
      "collapsed_sections": [],
      "authorship_tag": "ABX9TyMwXjuc2sXTdGH9ycTYpdKw",
      "include_colab_link": true
    },
    "kernelspec": {
      "name": "python3",
      "display_name": "Python 3"
    },
    "language_info": {
      "name": "python"
    }
  },
  "cells": [
    {
      "cell_type": "markdown",
      "metadata": {
        "id": "view-in-github",
        "colab_type": "text"
      },
      "source": [
        "<a href=\"https://colab.research.google.com/github/suajeong52/CNN/blob/main/cnn_%EC%88%98%EC%95%84_1.ipynb\" target=\"_parent\"><img src=\"https://colab.research.google.com/assets/colab-badge.svg\" alt=\"Open In Colab\"/></a>"
      ]
    },
    {
      "cell_type": "code",
      "execution_count": null,
      "metadata": {
        "id": "WqRJCrUA7Rw-"
      },
      "outputs": [],
      "source": [
        "import numpy as np\n",
        "import matplotlib.pyplot as plt\n",
        "\n",
        "from tensorflow.keras.utils import to_categorical\n",
        "from tensorflow.keras.datasets import cifar10\n",
        "from tensorflow.keras.models import Model\n",
        "from tensorflow.keras.optimizers import Adam\n",
        "\n",
        "\n",
        "from tensorflow.keras.layers import Input, Flatten, Dense, Conv2D, BatchNormalization,  LeakyReLU, Dropout, Activation\n",
        "import tensorflow.keras.backend as K"
      ]
    },
    {
      "cell_type": "code",
      "source": [
        "(x_train, y_train),(x_test, y_test) = cifar10.load_data()\n",
        "NUM_CLASSES = 10"
      ],
      "metadata": {
        "id": "P43vuJS_V7Qc",
        "colab": {
          "base_uri": "https://localhost:8080/"
        },
        "outputId": "9de9dfd3-8ca1-4813-aa7c-dfc69282a5b1"
      },
      "execution_count": null,
      "outputs": [
        {
          "output_type": "stream",
          "name": "stdout",
          "text": [
            "Downloading data from https://www.cs.toronto.edu/~kriz/cifar-10-python.tar.gz\n",
            "170500096/170498071 [==============================] - 14s 0us/step\n",
            "170508288/170498071 [==============================] - 14s 0us/step\n"
          ]
        }
      ]
    },
    {
      "cell_type": "code",
      "source": [
        "x_train.shape\n",
        "x_test.shape\n",
        "y_train.shape\n",
        "y_test.shape"
      ],
      "metadata": {
        "colab": {
          "base_uri": "https://localhost:8080/"
        },
        "id": "nsJPCFQjb4ID",
        "outputId": "79b9ca01-7ca6-40d6-bbf4-807417744d34"
      },
      "execution_count": null,
      "outputs": [
        {
          "output_type": "execute_result",
          "data": {
            "text/plain": [
              "(10000, 1)"
            ]
          },
          "metadata": {},
          "execution_count": 3
        }
      ]
    },
    {
      "cell_type": "code",
      "source": [
        "y_train"
      ],
      "metadata": {
        "colab": {
          "base_uri": "https://localhost:8080/"
        },
        "id": "FBc3lIogcHfS",
        "outputId": "cde5af8d-ae8c-4500-fab1-bf6397345724"
      },
      "execution_count": null,
      "outputs": [
        {
          "output_type": "execute_result",
          "data": {
            "text/plain": [
              "array([[6],\n",
              "       [9],\n",
              "       [9],\n",
              "       ...,\n",
              "       [9],\n",
              "       [1],\n",
              "       [1]], dtype=uint8)"
            ]
          },
          "metadata": {},
          "execution_count": 4
        }
      ]
    },
    {
      "cell_type": "code",
      "source": [
        "\n",
        "x_train = x_train.astype('float32')/255.\n",
        "x_test  = x_test.astype('float32')/255.\n",
        "\n",
        "y_train = to_categorical(y_train)\n",
        "y_test  = to_categorical(y_test)"
      ],
      "metadata": {
        "id": "OiruwspM7Vry"
      },
      "execution_count": null,
      "outputs": []
    },
    {
      "cell_type": "code",
      "source": [
        "y_train"
      ],
      "metadata": {
        "colab": {
          "base_uri": "https://localhost:8080/"
        },
        "id": "R62dNKjScI8a",
        "outputId": "6189f705-285e-41e0-ce94-3aa53fd3a2fb"
      },
      "execution_count": null,
      "outputs": [
        {
          "output_type": "execute_result",
          "data": {
            "text/plain": [
              "array([[0., 0., 0., ..., 0., 0., 0.],\n",
              "       [0., 0., 0., ..., 0., 0., 1.],\n",
              "       [0., 0., 0., ..., 0., 0., 1.],\n",
              "       ...,\n",
              "       [0., 0., 0., ..., 0., 0., 1.],\n",
              "       [0., 1., 0., ..., 0., 0., 0.],\n",
              "       [0., 1., 0., ..., 0., 0., 0.]], dtype=float32)"
            ]
          },
          "metadata": {},
          "execution_count": 6
        }
      ]
    },
    {
      "cell_type": "code",
      "source": [
        "input_layer = Input(shape = (32,32,3))\n",
        "\n",
        "conv_layer_1 = Conv2D(filters = 10 \n",
        "                      , kernel_size = (4,4)\n",
        "                      , strides = 2\n",
        "                      , padding = 'same'\n",
        "                      , activation = 'relu'\n",
        "                      )(input_layer)\n",
        "\n",
        "conv_layer_2 = Conv2D(\n",
        "        filters = 20\n",
        "        , kernel_size = (3,3)\n",
        "        , strides =2\n",
        "        , padding = 'same'\n",
        "        , activation = 'relu'\n",
        "        )(conv_layer_1)\n",
        "\n",
        "conv_layer_3 = Conv2D(\n",
        "        filters = 30\n",
        "        , kernel_size = (2,2)\n",
        "        , strides = 2\n",
        "        , padding = 'same'\n",
        "        , activation = 'relu'\n",
        "        )(conv_layer_2)\n",
        " \n",
        "flatten_layer = Flatten()(conv_layer_3)\n",
        "\n",
        "output_layer = Dense(10, activation = 'softmax')(flatten_layer)\n",
        "model1 = Model(input_layer, output_layer)"
      ],
      "metadata": {
        "id": "KD0SQ3Ms8apZ"
      },
      "execution_count": null,
      "outputs": []
    },
    {
      "cell_type": "code",
      "source": [
        "model1.summary()"
      ],
      "metadata": {
        "colab": {
          "base_uri": "https://localhost:8080/"
        },
        "id": "kImgN71A8uAp",
        "outputId": "3c837419-c1f3-42bd-e197-25aff6ef2ccd"
      },
      "execution_count": null,
      "outputs": [
        {
          "output_type": "stream",
          "name": "stdout",
          "text": [
            "Model: \"model\"\n",
            "_________________________________________________________________\n",
            " Layer (type)                Output Shape              Param #   \n",
            "=================================================================\n",
            " input_1 (InputLayer)        [(None, 32, 32, 3)]       0         \n",
            "                                                                 \n",
            " conv2d (Conv2D)             (None, 16, 16, 10)        490       \n",
            "                                                                 \n",
            " conv2d_1 (Conv2D)           (None, 8, 8, 20)          1820      \n",
            "                                                                 \n",
            " conv2d_2 (Conv2D)           (None, 4, 4, 30)          2430      \n",
            "                                                                 \n",
            " flatten (Flatten)           (None, 480)               0         \n",
            "                                                                 \n",
            " dense (Dense)               (None, 10)                4810      \n",
            "                                                                 \n",
            "=================================================================\n",
            "Total params: 9,550\n",
            "Trainable params: 9,550\n",
            "Non-trainable params: 0\n",
            "_________________________________________________________________\n"
          ]
        }
      ]
    },
    {
      "cell_type": "code",
      "source": [
        "opt = Adam(lr=0.0005)\n",
        "model1.compile(loss = 'categorical_crossentropy', optimizer = opt, metrics= ['accuracy'])"
      ],
      "metadata": {
        "colab": {
          "base_uri": "https://localhost:8080/"
        },
        "id": "1l8fopZd9tjp",
        "outputId": "e1ad2762-465c-4e18-c18e-c37c725e711e"
      },
      "execution_count": null,
      "outputs": [
        {
          "output_type": "stream",
          "name": "stderr",
          "text": [
            "/usr/local/lib/python3.7/dist-packages/keras/optimizer_v2/adam.py:105: UserWarning: The `lr` argument is deprecated, use `learning_rate` instead.\n",
            "  super(Adam, self).__init__(name, **kwargs)\n"
          ]
        }
      ]
    },
    {
      "cell_type": "code",
      "source": [
        "model1.fit(x_train, y_train, batch_size = 32, epochs = 10, shuffle=True)"
      ],
      "metadata": {
        "colab": {
          "base_uri": "https://localhost:8080/"
        },
        "id": "5uu-oyk69wAR",
        "outputId": "b10aeb89-70ba-4ffc-cfd4-e9666278743b"
      },
      "execution_count": null,
      "outputs": [
        {
          "output_type": "stream",
          "name": "stdout",
          "text": [
            "Epoch 1/10\n",
            "1563/1563 [==============================] - 16s 10ms/step - loss: 1.8052 - accuracy: 0.3558\n",
            "Epoch 2/10\n",
            "1563/1563 [==============================] - 15s 10ms/step - loss: 1.5687 - accuracy: 0.4434\n",
            "Epoch 3/10\n",
            "1563/1563 [==============================] - 17s 11ms/step - loss: 1.4676 - accuracy: 0.4814\n",
            "Epoch 4/10\n",
            "1563/1563 [==============================] - 17s 11ms/step - loss: 1.3966 - accuracy: 0.5047\n",
            "Epoch 5/10\n",
            "1563/1563 [==============================] - 17s 11ms/step - loss: 1.3418 - accuracy: 0.5250\n",
            "Epoch 6/10\n",
            "1563/1563 [==============================] - 15s 10ms/step - loss: 1.3030 - accuracy: 0.5380\n",
            "Epoch 7/10\n",
            "1563/1563 [==============================] - 15s 10ms/step - loss: 1.2710 - accuracy: 0.5510\n",
            "Epoch 8/10\n",
            "1563/1563 [==============================] - 15s 10ms/step - loss: 1.2443 - accuracy: 0.5604\n",
            "Epoch 9/10\n",
            "1563/1563 [==============================] - 15s 10ms/step - loss: 1.2218 - accuracy: 0.5687\n",
            "Epoch 10/10\n",
            "1563/1563 [==============================] - 15s 10ms/step - loss: 1.2037 - accuracy: 0.5743\n"
          ]
        },
        {
          "output_type": "execute_result",
          "data": {
            "text/plain": [
              "<keras.callbacks.History at 0x7f6b61a5c910>"
            ]
          },
          "metadata": {},
          "execution_count": 10
        }
      ]
    },
    {
      "cell_type": "code",
      "source": [
        "model1.evaluate(x_test, y_test)"
      ],
      "metadata": {
        "id": "W7HlUKdS_P84",
        "colab": {
          "base_uri": "https://localhost:8080/"
        },
        "outputId": "22aca5ae-d2b3-42fe-a2cb-8afeac3c49e7"
      },
      "execution_count": null,
      "outputs": [
        {
          "output_type": "stream",
          "name": "stdout",
          "text": [
            "313/313 [==============================] - 1s 4ms/step - loss: 1.2342 - accuracy: 0.5557\n"
          ]
        },
        {
          "output_type": "execute_result",
          "data": {
            "text/plain": [
              "[1.234230875968933, 0.5557000041007996]"
            ]
          },
          "metadata": {},
          "execution_count": 11
        }
      ]
    }
  ]
}